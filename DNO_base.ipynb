{
 "cells": [
  {
   "cell_type": "code",
   "execution_count": 2,
   "metadata": {},
   "outputs": [
    {
     "name": "stderr",
     "output_type": "stream",
     "text": [
      "2024-10-14 16:44:37.526488: I tensorflow/core/platform/cpu_feature_guard.cc:182] This TensorFlow binary is optimized to use available CPU instructions in performance-critical operations.\n",
      "To enable the following instructions: SSE4.1 SSE4.2 AVX AVX2 FMA, in other operations, rebuild TensorFlow with the appropriate compiler flags.\n",
      "Using backend: tensorflow.compat.v1\n",
      "Other supported backends: tensorflow, pytorch, jax, paddle.\n",
      "paddle supports more examples now and is recommended.\n"
     ]
    },
    {
     "name": "stdout",
     "output_type": "stream",
     "text": [
      "WARNING:tensorflow:From /opt/anaconda3/envs/python38/lib/python3.8/site-packages/tensorflow/python/compat/v2_compat.py:107: disable_resource_variables (from tensorflow.python.ops.variable_scope) is deprecated and will be removed in a future version.\n",
      "Instructions for updating:\n",
      "non-resource variables are not supported in the long term\n",
      "WARNING:tensorflow:From /opt/anaconda3/envs/python38/lib/python3.8/site-packages/deepxde/nn/initializers.py:118: The name tf.keras.initializers.he_normal is deprecated. Please use tf.compat.v1.keras.initializers.he_normal instead.\n",
      "\n"
     ]
    }
   ],
   "source": [
    "import deepxde as dde\n",
    "import numpy as np\n",
    "from deepxde.backend import tf \n",
    "from scipy import io\n",
    "import pandas as pd\n",
    "from sklearn.preprocessing import StandardScaler\n",
    "from sklearn.model_selection import train_test_split\n",
    "import matplotlib.pyplot as plt"
   ]
  },
  {
   "cell_type": "code",
   "execution_count": 7,
   "metadata": {},
   "outputs": [
    {
     "name": "stdout",
     "output_type": "stream",
     "text": [
      "训练数据输入 X_train: [[-0.23083213]\n",
      " [-0.23083213]\n",
      " [-0.23083213]\n",
      " [ 0.08053676]\n",
      " [-0.23083213]]\n",
      "训练数据输出 y_train: [[ 0.46698737]\n",
      " [-0.80818022]\n",
      " [ 1.95061943]\n",
      " [ 0.01471583]\n",
      " [-0.31121072]]\n",
      "测试数据输入 X_test: [[-0.23083213]\n",
      " [-0.23083213]\n",
      " [-0.23083213]\n",
      " [-0.15897777]\n",
      " [ 0.08053676]]\n",
      "测试数据输出 y_test: [[-0.73352612]\n",
      " [ 0.70635297]\n",
      " [-0.34967176]\n",
      " [ 0.55402081]\n",
      " [ 0.31673418]]\n"
     ]
    }
   ],
   "source": [
    "# 1. 读取 CSV 文件（假设文件有列标题）\n",
    "df = pd.read_csv('./changhua_data.csv', encoding='utf-8-sig')\n",
    "\n",
    "# 2. 提取输入特征和目标列\n",
    "# 这里假设第2列是输入特征，第1列是目标值\n",
    "col_x = df.iloc[:, 2].values.reshape(-1, 1)[0:100]  # 第2列 (输入特征)\n",
    "col_y = df.iloc[:, 1].values.reshape(-1, 1)[0:100]  # 第1列 (目标)\n",
    "\n",
    "# 3. 划分训练集和测试集，80%训练，20%测试\n",
    "X_train, X_test, y_train, y_test = train_test_split(col_x, col_y, test_size=0.2, random_state=42)\n",
    "\n",
    "# 4. 数据标准化（如果需要标准化）\n",
    "scaler_x = StandardScaler()\n",
    "scaler_y = StandardScaler()\n",
    "\n",
    "X_train_scaled = scaler_x.fit_transform(X_train)\n",
    "y_train_scaled = scaler_y.fit_transform(y_train)\n",
    "\n",
    "X_test_scaled = scaler_x.transform(X_test)\n",
    "y_test_scaled = scaler_y.transform(y_test)\n",
    "\n",
    "# 5. 创建 DeepXDE 的 DataSet\n",
    "data = dde.data.DataSet(\n",
    "    X_train=X_train_scaled,\n",
    "    y_train=y_train_scaled,\n",
    "    X_test=X_test_scaled,\n",
    "    y_test=y_test_scaled\n",
    ")\n",
    "\n",
    "# 6. 检查数据\n",
    "print(\"训练数据输入 X_train:\", X_train_scaled[:5])\n",
    "print(\"训练数据输出 y_train:\", y_train_scaled[:5])\n",
    "print(\"测试数据输入 X_test:\", X_test_scaled[:5])\n",
    "print(\"测试数据输出 y_test:\", y_test_scaled[:5])\n",
    "\n"
   ]
  },
  {
   "cell_type": "code",
   "execution_count": 8,
   "metadata": {},
   "outputs": [],
   "source": [
    "layer_size = [1] + [50] * 3 + [1]\n",
    "activation = \"tanh\"\n",
    "initializer = \"Glorot normal\"\n",
    "net = dde.nn.FNN(layer_size, activation, initializer)"
   ]
  },
  {
   "cell_type": "code",
   "execution_count": 9,
   "metadata": {},
   "outputs": [
    {
     "name": "stdout",
     "output_type": "stream",
     "text": [
      "Compiling model...\n",
      "Building feed-forward neural network...\n",
      "'build' took 0.059513 s\n",
      "\n",
      "'compile' took 0.190597 s\n",
      "\n"
     ]
    },
    {
     "name": "stderr",
     "output_type": "stream",
     "text": [
      "/opt/anaconda3/envs/python38/lib/python3.8/site-packages/deepxde/nn/tensorflow_compat_v1/fnn.py:116: UserWarning: `tf.layers.dense` is deprecated and will be removed in a future version. Please use `tf.keras.layers.Dense` instead.\n",
      "  return tf.layers.dense(\n"
     ]
    },
    {
     "name": "stdout",
     "output_type": "stream",
     "text": [
      "Training model...\n",
      "\n",
      "Step      Train loss    Test loss     Test metric   \n",
      "0         [1.01e+00]    [1.10e+00]    [9.99e-01]    \n",
      "1000      [9.07e-01]    [1.42e+00]    [1.14e+00]    \n",
      "2000      [9.07e-01]    [1.42e+00]    [1.14e+00]    \n",
      "3000      [9.07e-01]    [1.43e+00]    [1.14e+00]    \n",
      "4000      [9.08e-01]    [1.41e+00]    [1.13e+00]    \n",
      "5000      [9.07e-01]    [1.43e+00]    [1.14e+00]    \n",
      "6000      [9.07e-01]    [1.43e+00]    [1.14e+00]    \n",
      "7000      [9.07e-01]    [1.42e+00]    [1.14e+00]    \n",
      "8000      [9.07e-01]    [1.42e+00]    [1.14e+00]    \n",
      "9000      [9.07e-01]    [1.42e+00]    [1.14e+00]    \n",
      "10000     [9.07e-01]    [1.42e+00]    [1.14e+00]    \n",
      "11000     [9.07e-01]    [1.42e+00]    [1.14e+00]    \n",
      "12000     [9.07e-01]    [1.42e+00]    [1.14e+00]    \n",
      "13000     [9.07e-01]    [1.42e+00]    [1.14e+00]    \n",
      "14000     [9.07e-01]    [1.41e+00]    [1.13e+00]    \n",
      "15000     [9.07e-01]    [1.43e+00]    [1.14e+00]    \n",
      "16000     [9.07e-01]    [1.42e+00]    [1.14e+00]    \n",
      "17000     [9.07e-01]    [1.42e+00]    [1.14e+00]    \n",
      "18000     [9.07e-01]    [1.42e+00]    [1.14e+00]    \n",
      "19000     [9.07e-01]    [1.42e+00]    [1.14e+00]    \n",
      "20000     [9.07e-01]    [1.42e+00]    [1.14e+00]    \n",
      "21000     [9.07e-01]    [1.42e+00]    [1.14e+00]    \n",
      "22000     [9.07e-01]    [1.42e+00]    [1.14e+00]    \n",
      "23000     [9.07e-01]    [1.43e+00]    [1.14e+00]    \n",
      "24000     [9.07e-01]    [1.42e+00]    [1.14e+00]    \n",
      "25000     [9.07e-01]    [1.43e+00]    [1.14e+00]    \n",
      "26000     [9.07e-01]    [1.42e+00]    [1.14e+00]    \n",
      "27000     [9.07e-01]    [1.42e+00]    [1.14e+00]    \n",
      "28000     [9.07e-01]    [1.42e+00]    [1.14e+00]    \n",
      "29000     [9.07e-01]    [1.42e+00]    [1.14e+00]    \n",
      "30000     [9.07e-01]    [1.42e+00]    [1.14e+00]    \n",
      "31000     [9.07e-01]    [1.42e+00]    [1.14e+00]    \n",
      "32000     [9.07e-01]    [1.42e+00]    [1.14e+00]    \n",
      "33000     [9.07e-01]    [1.42e+00]    [1.14e+00]    \n",
      "34000     [9.07e-01]    [1.42e+00]    [1.14e+00]    \n",
      "35000     [9.07e-01]    [1.42e+00]    [1.14e+00]    \n",
      "36000     [9.07e-01]    [1.43e+00]    [1.14e+00]    \n",
      "37000     [9.07e-01]    [1.42e+00]    [1.14e+00]    \n",
      "38000     [9.07e-01]    [1.42e+00]    [1.14e+00]    \n",
      "39000     [9.07e-01]    [1.42e+00]    [1.14e+00]    \n",
      "40000     [9.07e-01]    [1.42e+00]    [1.14e+00]    \n",
      "41000     [9.07e-01]    [1.42e+00]    [1.14e+00]    \n",
      "42000     [9.07e-01]    [1.42e+00]    [1.14e+00]    \n",
      "43000     [9.07e-01]    [1.42e+00]    [1.14e+00]    \n",
      "44000     [9.07e-01]    [1.42e+00]    [1.14e+00]    \n",
      "45000     [9.07e-01]    [1.42e+00]    [1.14e+00]    \n",
      "46000     [9.07e-01]    [1.42e+00]    [1.14e+00]    \n",
      "47000     [9.07e-01]    [1.42e+00]    [1.14e+00]    \n",
      "48000     [9.07e-01]    [1.42e+00]    [1.14e+00]    \n",
      "49000     [9.07e-01]    [1.42e+00]    [1.14e+00]    \n",
      "50000     [9.07e-01]    [1.42e+00]    [1.14e+00]    \n",
      "\n",
      "Best model at step 19000:\n",
      "  train loss: 9.07e-01\n",
      "  test loss: 1.42e+00\n",
      "  test metric: [1.14e+00]\n",
      "\n",
      "'train' took 24.337964 s\n",
      "\n"
     ]
    }
   ],
   "source": [
    "model = dde.Model(data, net)\n",
    "model.compile(\"adam\", lr=0.001, metrics=[\"l2 relative error\"])\n",
    "losshistory, train_state = model.train(iterations=50000)"
   ]
  },
  {
   "cell_type": "code",
   "execution_count": 10,
   "metadata": {},
   "outputs": [
    {
     "name": "stdout",
     "output_type": "stream",
     "text": [
      "Saving loss history to /Users/zjr/Paper_DNO/loss.dat ...\n",
      "Saving training data to /Users/zjr/Paper_DNO/train.dat ...\n",
      "Saving test data to /Users/zjr/Paper_DNO/test.dat ...\n"
     ]
    },
    {
     "data": {
      "image/png": "[encoded data removed]",
      "text/plain": [
       "<Figure size 640x480 with 1 Axes>"
      ]
     },
     "metadata": {},
     "output_type": "display_data"
    },
    {
     "data": {
      "image/png": "[encoded data removed]",
      "text/plain": [
       "<Figure size 640x480 with 1 Axes>"
      ]
     },
     "metadata": {},
     "output_type": "display_data"
    }
   ],
   "source": [
    "dde.saveplot(losshistory, train_state, issave=True, isplot=True)"
   ]
  },
  {
   "cell_type": "code",
   "execution_count": 30,
   "metadata": {},
   "outputs": [
    {
     "name": "stdout",
     "output_type": "stream",
     "text": [
      "(7496, 7)\n",
      "(7496, 1)\n",
      "(7496, 1)\n",
      "1\n",
      "1875\n",
      "7496\n",
      "1\n"
     ]
    }
   ],
   "source": [
    "# 1. 读取CSV文件\n",
    "df = pd.read_csv(\"./changhua_data.csv\")\n",
    "\n",
    "# 2. 提取并处理时间列 (第1列)\n",
    "# 使用 pandas 将时间转换为 datetime 对象\n",
    "df['time'] = pd.to_datetime(df.iloc[:, 0])\n",
    "\n",
    "# 将时间转换为数值形式，例如时间戳（秒）\n",
    "x = df['time'].astype(np.int64) // 10**9  # 转换为秒级时间戳\n",
    "x = x.values.reshape(-1, 1).astype(np.float32)\n",
    "\n",
    "# 3. 分支网络输入：气象站的降雨数据 (第3到第9列)\n",
    "v = df.iloc[:, 2:9].values.astype(np.float32)\n",
    "\n",
    "# 4. 目标：流量 (第2列)\n",
    "y = df.iloc[:, 1].values.reshape(-1, 1).astype(np.float32)\n",
    "\n",
    "# 5. 使用 train_test_split 划分数据集为 80% 训练集和 20% 测试集\n",
    "X_train_branch, X_test_branch, X_train_trunk, X_test_trunk, y_train, y_test = train_test_split(\n",
    "    v, x, y, test_size=0.2, random_state=42\n",
    ")\n",
    "\n",
    "# 6. 构建X_train为一个元组，分别对应分支和主干网络的输入\n",
    "X_train = (X_train_branch, X_train_trunk)\n",
    "X_test = (X_test_branch, X_test_trunk)\n",
    "print(X_train_branch.shape)\n",
    "print(X_train_trunk.shape)\n",
    "print(y_train.shape)\n",
    "# len(X_test[1]) != y_test.shape[1]:\n",
    "print(y_test.shape[1])\n",
    "print(len(X_test[1]))\n",
    "# X_train[0]) != y_train.shape[0]\n",
    "print(len(X_train[1]))\n",
    "print(y_train.shape[1])"
   ]
  },
  {
   "cell_type": "code",
   "execution_count": 27,
   "metadata": {},
   "outputs": [
    {
     "ename": "ValueError",
     "evalue": "The training dataset does not have the format of Cartesian product.",
     "output_type": "error",
     "traceback": [
      "\u001b[0;31m---------------------------------------------------------------------------\u001b[0m",
      "\u001b[0;31mValueError\u001b[0m                                Traceback (most recent call last)",
      "Cell \u001b[0;32mIn[27], line 1\u001b[0m\n\u001b[0;32m----> 1\u001b[0m data \u001b[39m=\u001b[39m dde\u001b[39m.\u001b[39;49mdata\u001b[39m.\u001b[39;49mTripleCartesianProd(\n\u001b[1;32m      2\u001b[0m     X_train\u001b[39m=\u001b[39;49mX_train, y_train\u001b[39m=\u001b[39;49my_train,\n\u001b[1;32m      3\u001b[0m     X_test\u001b[39m=\u001b[39;49mX_test, y_test\u001b[39m=\u001b[39;49my_test  \u001b[39m# 假设你有测试数据\u001b[39;49;00m\n\u001b[1;32m      4\u001b[0m )\n\u001b[1;32m      6\u001b[0m \u001b[39m# 7. 现在你可以将这些数据用于 DeepONet 的输入\u001b[39;00m\n\u001b[1;32m      7\u001b[0m \n\u001b[1;32m      8\u001b[0m \u001b[39m# 然后定义网络并训练\u001b[39;00m\n\u001b[1;32m      9\u001b[0m m \u001b[39m=\u001b[39m \u001b[39m100\u001b[39m  \u001b[39m# 假设有100个气象站输入\u001b[39;00m\n",
      "File \u001b[0;32m/opt/anaconda3/envs/python38/lib/python3.8/site-packages/deepxde/data/triple.py:63\u001b[0m, in \u001b[0;36mTripleCartesianProd.__init__\u001b[0;34m(self, X_train, y_train, X_test, y_test)\u001b[0m\n\u001b[1;32m     61\u001b[0m \u001b[39mdef\u001b[39;00m \u001b[39m__init__\u001b[39m(\u001b[39mself\u001b[39m, X_train, y_train, X_test, y_test):\n\u001b[1;32m     62\u001b[0m     \u001b[39mif\u001b[39;00m \u001b[39mlen\u001b[39m(X_train[\u001b[39m0\u001b[39m]) \u001b[39m!=\u001b[39m y_train\u001b[39m.\u001b[39mshape[\u001b[39m0\u001b[39m] \u001b[39mor\u001b[39;00m \u001b[39mlen\u001b[39m(X_train[\u001b[39m1\u001b[39m]) \u001b[39m!=\u001b[39m y_train\u001b[39m.\u001b[39mshape[\u001b[39m1\u001b[39m]:\n\u001b[0;32m---> 63\u001b[0m         \u001b[39mraise\u001b[39;00m \u001b[39mValueError\u001b[39;00m(\n\u001b[1;32m     64\u001b[0m             \u001b[39m\"\u001b[39m\u001b[39mThe training dataset does not have the format of Cartesian product.\u001b[39m\u001b[39m\"\u001b[39m\n\u001b[1;32m     65\u001b[0m         )\n\u001b[1;32m     66\u001b[0m     \u001b[39mif\u001b[39;00m \u001b[39mlen\u001b[39m(X_test[\u001b[39m0\u001b[39m]) \u001b[39m!=\u001b[39m y_test\u001b[39m.\u001b[39mshape[\u001b[39m0\u001b[39m] \u001b[39mor\u001b[39;00m \u001b[39mlen\u001b[39m(X_test[\u001b[39m1\u001b[39m]) \u001b[39m!=\u001b[39m y_test\u001b[39m.\u001b[39mshape[\u001b[39m1\u001b[39m]:\n\u001b[1;32m     67\u001b[0m         \u001b[39mraise\u001b[39;00m \u001b[39mValueError\u001b[39;00m(\n\u001b[1;32m     68\u001b[0m             \u001b[39m\"\u001b[39m\u001b[39mThe testing dataset does not have the format of Cartesian product.\u001b[39m\u001b[39m\"\u001b[39m\n\u001b[1;32m     69\u001b[0m         )\n",
      "\u001b[0;31mValueError\u001b[0m: The training dataset does not have the format of Cartesian product."
     ]
    }
   ],
   "source": [
    "data = dde.data.TripleCartesianProd(\n",
    "    X_train=X_train, y_train=y_train,\n",
    "    X_test=X_test, y_test=y_test  # 假设你有测试数据\n",
    ")\n",
    "\n",
    "# 7. 现在你可以将这些数据用于 DeepONet 的输入\n",
    "\n",
    "# 然后定义网络并训练\n",
    "m = 100  # 假设有100个气象站输入\n",
    "dim_x = 1  # 时间作为输入维度\n",
    "net = dde.nn.DeepONetCartesianProd(\n",
    "    [m, 40, 40],\n",
    "    [dim_x, 40, 40],\n",
    "    \"relu\",\n",
    "    \"Glorot normal\",\n",
    ")\n",
    "\n",
    "model = dde.Model(data, net)\n",
    "model.compile(\"adam\", lr=0.001, metrics=[\"mean l2 relative error\"])\n",
    "losshistory, train_state = model.train(iterations=10000)\n"
   ]
  },
  {
   "cell_type": "code",
   "execution_count": 25,
   "metadata": {},
   "outputs": [
    {
     "name": "stdout",
     "output_type": "stream",
     "text": [
      "Compiling model...\n",
      "Building DeepONetCartesianProd...\n",
      "'build' took 0.079756 s\n",
      "\n",
      "'compile' took 0.298074 s\n",
      "\n",
      "Training model...\n",
      "\n",
      "Step      Train loss    Test loss     Test metric   \n",
      "0         [3.70e-01]    [3.57e-01]    [1.20e+00]    \n",
      "1000      [5.89e-05]    [7.88e-05]    [3.34e-02]    \n",
      "2000      [2.42e-05]    [3.69e-05]    [2.30e-02]    \n",
      "3000      [1.71e-05]    [2.56e-05]    [1.96e-02]    \n",
      "4000      [1.45e-05]    [2.24e-05]    [1.82e-02]    \n",
      "5000      [1.72e-05]    [2.65e-05]    [1.81e-02]    \n",
      "6000      [9.08e-06]    [1.51e-05]    [1.53e-02]    \n",
      "7000      [3.64e-05]    [4.35e-05]    [1.85e-02]    \n",
      "8000      [5.63e-06]    [1.02e-05]    [1.24e-02]    \n",
      "9000      [4.68e-06]    [8.99e-06]    [1.16e-02]    \n",
      "10000     [8.96e-06]    [1.26e-05]    [1.21e-02]    \n",
      "\n",
      "Best model at step 9000:\n",
      "  train loss: 4.68e-06\n",
      "  test loss: 8.99e-06\n",
      "  test metric: [1.16e-02]\n",
      "\n",
      "'train' took 6.435023 s\n",
      "\n"
     ]
    },
    {
     "data": {
      "image/png": "[encoded data removed]",
      "text/plain": [
       "<Figure size 640x480 with 1 Axes>"
      ]
     },
     "metadata": {},
     "output_type": "display_data"
    }
   ],
   "source": [
    "\n",
    "# Load dataset\n",
    "d = np.load(\"/Users/zjr/Downloads/antiderivative_aligned_train.npz\", allow_pickle=True)\n",
    "X_train = (d[\"X\"][0].astype(np.float32), d[\"X\"][1].astype(np.float32))\n",
    "y_train = d[\"y\"].astype(np.float32)\n",
    "d = np.load(\"/Users/zjr/Downloads/antiderivative_aligned_test.npz\", allow_pickle=True)\n",
    "X_test = (d[\"X\"][0].astype(np.float32), d[\"X\"][1].astype(np.float32))\n",
    "y_test = d[\"y\"].astype(np.float32)\n",
    "\n",
    "data = dde.data.TripleCartesianProd( \n",
    "    X_train=X_train, y_train=y_train, X_test=X_test, y_test=y_test\n",
    ")\n",
    "\n",
    "# Choose a network\n",
    "m = 100\n",
    "dim_x = 1\n",
    "net = dde.nn.DeepONetCartesianProd(\n",
    "    [m, 40, 40],\n",
    "    [dim_x, 40, 40],\n",
    "    \"relu\",\n",
    "    \"Glorot normal\",\n",
    ")\n",
    "\n",
    "# Define a Model\n",
    "model = dde.Model(data, net)\n",
    "\n",
    "# Compile and Train\n",
    "model.compile(\"adam\", lr=0.001, metrics=[\"mean l2 relative error\"])\n",
    "losshistory, train_state = model.train(iterations=10000)\n",
    "\n",
    "# Plot the loss trajectory\n",
    "dde.utils.plot_loss_history(losshistory)\n",
    "plt.show()"
   ]
  },
  {
   "cell_type": "code",
   "execution_count": 12,
   "metadata": {},
   "outputs": [
    {
     "data": {
      "text/plain": [
       "['X', 'y']"
      ]
     },
     "execution_count": 12,
     "metadata": {},
     "output_type": "execute_result"
    }
   ],
   "source": [
    "import numpy as np\n",
    "file_path=\"/Users/zjr/Downloads/antiderivative_aligned_test.npz\"\n",
    "poem=np.load(file_path,allow_pickle=True)\n",
    "poem.files"
   ]
  },
  {
   "cell_type": "code",
   "execution_count": 14,
   "metadata": {},
   "outputs": [],
   "source": [
    "x,y = poem['X'],poem['y']"
   ]
  },
  {
   "cell_type": "code",
   "execution_count": 15,
   "metadata": {},
   "outputs": [
    {
     "name": "stdout",
     "output_type": "stream",
     "text": [
      "<class 'numpy.ndarray'>\n"
     ]
    }
   ],
   "source": [
    "print(type(x))"
   ]
  },
  {
   "cell_type": "code",
   "execution_count": 17,
   "metadata": {},
   "outputs": [
    {
     "name": "stdout",
     "output_type": "stream",
     "text": [
      "[[ 1.13559229  1.18658295  1.23654145 ... -0.00598001 -0.00683875\n",
      "  -0.00620564]\n",
      " [ 0.34485576  0.37422643  0.40376348 ...  0.88981799  0.8808546\n",
      "   0.87266277]\n",
      " [ 0.113323    0.1569542   0.20032994 ...  1.54075153  1.53433552\n",
      "   1.52788084]\n",
      " ...\n",
      " [ 1.06821886  1.04805073  1.02740735 ...  0.84866501  0.83641653\n",
      "   0.82352462]\n",
      " [ 0.93242467  0.90473566  0.87701723 ...  0.23970087  0.23623691\n",
      "   0.23254156]\n",
      " [-0.6613804  -0.67716221 -0.69277879 ... -1.2770696  -1.26323951\n",
      "  -1.24839845]]\n"
     ]
    }
   ],
   "source": [
    "print(x[0])"
   ]
  },
  {
   "cell_type": "code",
   "execution_count": 18,
   "metadata": {},
   "outputs": [
    {
     "name": "stdout",
     "output_type": "stream",
     "text": [
      "[[0.        ]\n",
      " [0.01010101]\n",
      " [0.02020202]\n",
      " [0.03030303]\n",
      " [0.04040404]\n",
      " [0.05050505]\n",
      " [0.06060606]\n",
      " [0.07070707]\n",
      " [0.08080808]\n",
      " [0.09090909]\n",
      " [0.1010101 ]\n",
      " [0.11111111]\n",
      " [0.12121212]\n",
      " [0.13131313]\n",
      " [0.14141414]\n",
      " [0.15151515]\n",
      " [0.16161616]\n",
      " [0.17171717]\n",
      " [0.18181818]\n",
      " [0.19191919]\n",
      " [0.2020202 ]\n",
      " [0.21212121]\n",
      " [0.22222222]\n",
      " [0.23232323]\n",
      " [0.24242424]\n",
      " [0.25252525]\n",
      " [0.26262626]\n",
      " [0.27272727]\n",
      " [0.28282828]\n",
      " [0.29292929]\n",
      " [0.3030303 ]\n",
      " [0.31313131]\n",
      " [0.32323232]\n",
      " [0.33333333]\n",
      " [0.34343434]\n",
      " [0.35353535]\n",
      " [0.36363636]\n",
      " [0.37373737]\n",
      " [0.38383838]\n",
      " [0.39393939]\n",
      " [0.4040404 ]\n",
      " [0.41414141]\n",
      " [0.42424242]\n",
      " [0.43434343]\n",
      " [0.44444444]\n",
      " [0.45454545]\n",
      " [0.46464646]\n",
      " [0.47474747]\n",
      " [0.48484848]\n",
      " [0.49494949]\n",
      " [0.50505051]\n",
      " [0.51515152]\n",
      " [0.52525253]\n",
      " [0.53535354]\n",
      " [0.54545455]\n",
      " [0.55555556]\n",
      " [0.56565657]\n",
      " [0.57575758]\n",
      " [0.58585859]\n",
      " [0.5959596 ]\n",
      " [0.60606061]\n",
      " [0.61616162]\n",
      " [0.62626263]\n",
      " [0.63636364]\n",
      " [0.64646465]\n",
      " [0.65656566]\n",
      " [0.66666667]\n",
      " [0.67676768]\n",
      " [0.68686869]\n",
      " [0.6969697 ]\n",
      " [0.70707071]\n",
      " [0.71717172]\n",
      " [0.72727273]\n",
      " [0.73737374]\n",
      " [0.74747475]\n",
      " [0.75757576]\n",
      " [0.76767677]\n",
      " [0.77777778]\n",
      " [0.78787879]\n",
      " [0.7979798 ]\n",
      " [0.80808081]\n",
      " [0.81818182]\n",
      " [0.82828283]\n",
      " [0.83838384]\n",
      " [0.84848485]\n",
      " [0.85858586]\n",
      " [0.86868687]\n",
      " [0.87878788]\n",
      " [0.88888889]\n",
      " [0.8989899 ]\n",
      " [0.90909091]\n",
      " [0.91919192]\n",
      " [0.92929293]\n",
      " [0.93939394]\n",
      " [0.94949495]\n",
      " [0.95959596]\n",
      " [0.96969697]\n",
      " [0.97979798]\n",
      " [0.98989899]\n",
      " [1.        ]]\n"
     ]
    }
   ],
   "source": [
    "print(x[1])"
   ]
  },
  {
   "cell_type": "code",
   "execution_count": 19,
   "metadata": {},
   "outputs": [
    {
     "name": "stdout",
     "output_type": "stream",
     "text": [
      "[[ 0.00000000e+00  1.14968030e-02  2.35045483e-02 ...  1.10998991e+00\n",
      "   1.10990666e+00  1.10982870e+00]\n",
      " [ 0.00000000e+00  3.48340427e-03  7.24505209e-03 ...  1.07320015e+00\n",
      "   1.08226140e+00  1.09121470e+00]\n",
      " [ 0.00000000e+00  1.18982475e-03  2.78579929e-03 ...  1.26745167e+00\n",
      "   1.28305327e+00  1.29858643e+00]\n",
      " ...\n",
      " [ 0.00000000e+00  1.07797370e-02  2.13171745e-02 ...  7.38145115e-01\n",
      "   7.46785230e-01  7.55299976e-01]\n",
      " [ 0.00000000e+00  9.40421810e-03  1.86140352e-02 ...  3.32005167e-01\n",
      "   3.34425271e-01  3.36822577e-01]\n",
      " [ 0.00000000e+00 -6.68871101e-03 -1.34907917e-02 ... -1.11951271e+00\n",
      "  -1.13248393e+00 -1.14531770e+00]]\n"
     ]
    }
   ],
   "source": [
    "print(y)"
   ]
  },
  {
   "cell_type": "code",
   "execution_count": 21,
   "metadata": {},
   "outputs": [
    {
     "name": "stdout",
     "output_type": "stream",
     "text": [
      "(1000, 100)\n",
      "(100, 1)\n",
      "(1000, 100)\n"
     ]
    }
   ],
   "source": [
    "print(x[0].shape)\n",
    "print(x[1].shape)\n",
    "print(y.shape)"
   ]
  },
  {
   "cell_type": "code",
   "execution_count": 33,
   "metadata": {},
   "outputs": [
    {
     "name": "stdout",
     "output_type": "stream",
     "text": [
      "Compiling model...\n",
      "Building DeepONet...\n"
     ]
    },
    {
     "ename": "TypeError",
     "evalue": "'FNN' object is not subscriptable",
     "output_type": "error",
     "traceback": [
      "\u001b[0;31m---------------------------------------------------------------------------\u001b[0m",
      "\u001b[0;31mTypeError\u001b[0m                                 Traceback (most recent call last)",
      "Cell \u001b[0;32mIn[33], line 56\u001b[0m\n\u001b[1;32m     53\u001b[0m net \u001b[39m=\u001b[39m dde\u001b[39m.\u001b[39mmaps\u001b[39m.\u001b[39mDeepONet(branch, trunk, activation\u001b[39m=\u001b[39m\u001b[39m\"\u001b[39m\u001b[39mrelu\u001b[39m\u001b[39m\"\u001b[39m, kernel_initializer\u001b[39m=\u001b[39m\u001b[39m\"\u001b[39m\u001b[39mGlorot normal\u001b[39m\u001b[39m\"\u001b[39m)\n\u001b[1;32m     55\u001b[0m model \u001b[39m=\u001b[39m dde\u001b[39m.\u001b[39mModel(data\u001b[39m=\u001b[39m\u001b[39mNone\u001b[39;00m, net\u001b[39m=\u001b[39mnet)\n\u001b[0;32m---> 56\u001b[0m model\u001b[39m.\u001b[39;49mcompile(\u001b[39m\"\u001b[39;49m\u001b[39madam\u001b[39;49m\u001b[39m\"\u001b[39;49m, lr\u001b[39m=\u001b[39;49m\u001b[39m0.001\u001b[39;49m, metrics\u001b[39m=\u001b[39;49m[\u001b[39m\"\u001b[39;49m\u001b[39mmae\u001b[39;49m\u001b[39m\"\u001b[39;49m])\n\u001b[1;32m     58\u001b[0m \u001b[39m# Prepare data for DeepONet\u001b[39;00m\n\u001b[1;32m     59\u001b[0m branch_train \u001b[39m=\u001b[39m X_train[:, :, :\u001b[39m-\u001b[39m\u001b[39m1\u001b[39m]\u001b[39m.\u001b[39mreshape(\u001b[39mlen\u001b[39m(X_train), \u001b[39m-\u001b[39m\u001b[39m1\u001b[39m)\n",
      "File \u001b[0;32m/opt/anaconda3/envs/python38/lib/python3.8/site-packages/deepxde/utils/internal.py:22\u001b[0m, in \u001b[0;36mtiming.<locals>.wrapper\u001b[0;34m(*args, **kwargs)\u001b[0m\n\u001b[1;32m     19\u001b[0m \u001b[39m@wraps\u001b[39m(f)\n\u001b[1;32m     20\u001b[0m \u001b[39mdef\u001b[39;00m \u001b[39mwrapper\u001b[39m(\u001b[39m*\u001b[39margs, \u001b[39m*\u001b[39m\u001b[39m*\u001b[39mkwargs):\n\u001b[1;32m     21\u001b[0m     ts \u001b[39m=\u001b[39m timeit\u001b[39m.\u001b[39mdefault_timer()\n\u001b[0;32m---> 22\u001b[0m     result \u001b[39m=\u001b[39m f(\u001b[39m*\u001b[39;49margs, \u001b[39m*\u001b[39;49m\u001b[39m*\u001b[39;49mkwargs)\n\u001b[1;32m     23\u001b[0m     te \u001b[39m=\u001b[39m timeit\u001b[39m.\u001b[39mdefault_timer()\n\u001b[1;32m     24\u001b[0m     \u001b[39mif\u001b[39;00m config\u001b[39m.\u001b[39mrank \u001b[39m==\u001b[39m \u001b[39m0\u001b[39m:\n",
      "File \u001b[0;32m/opt/anaconda3/envs/python38/lib/python3.8/site-packages/deepxde/model.py:137\u001b[0m, in \u001b[0;36mModel.compile\u001b[0;34m(self, optimizer, lr, loss, metrics, decay, loss_weights, external_trainable_variables)\u001b[0m\n\u001b[1;32m    134\u001b[0m     \u001b[39mself\u001b[39m\u001b[39m.\u001b[39mexternal_trainable_variables \u001b[39m=\u001b[39m external_trainable_variables\n\u001b[1;32m    136\u001b[0m \u001b[39mif\u001b[39;00m backend_name \u001b[39m==\u001b[39m \u001b[39m\"\u001b[39m\u001b[39mtensorflow.compat.v1\u001b[39m\u001b[39m\"\u001b[39m:\n\u001b[0;32m--> 137\u001b[0m     \u001b[39mself\u001b[39;49m\u001b[39m.\u001b[39;49m_compile_tensorflow_compat_v1(lr, loss_fn, decay)\n\u001b[1;32m    138\u001b[0m \u001b[39melif\u001b[39;00m backend_name \u001b[39m==\u001b[39m \u001b[39m\"\u001b[39m\u001b[39mtensorflow\u001b[39m\u001b[39m\"\u001b[39m:\n\u001b[1;32m    139\u001b[0m     \u001b[39mself\u001b[39m\u001b[39m.\u001b[39m_compile_tensorflow(lr, loss_fn, decay)\n",
      "File \u001b[0;32m/opt/anaconda3/envs/python38/lib/python3.8/site-packages/deepxde/model.py:154\u001b[0m, in \u001b[0;36mModel._compile_tensorflow_compat_v1\u001b[0;34m(self, lr, loss_fn, decay)\u001b[0m\n\u001b[1;32m    152\u001b[0m \u001b[39m\u001b[39m\u001b[39m\"\"\"tensorflow.compat.v1\"\"\"\u001b[39;00m\n\u001b[1;32m    153\u001b[0m \u001b[39mif\u001b[39;00m \u001b[39mnot\u001b[39;00m \u001b[39mself\u001b[39m\u001b[39m.\u001b[39mnet\u001b[39m.\u001b[39mbuilt:\n\u001b[0;32m--> 154\u001b[0m     \u001b[39mself\u001b[39;49m\u001b[39m.\u001b[39;49mnet\u001b[39m.\u001b[39;49mbuild()\n\u001b[1;32m    155\u001b[0m \u001b[39mif\u001b[39;00m \u001b[39mself\u001b[39m\u001b[39m.\u001b[39msess \u001b[39mis\u001b[39;00m \u001b[39mNone\u001b[39;00m:\n\u001b[1;32m    156\u001b[0m     \u001b[39mif\u001b[39;00m config\u001b[39m.\u001b[39mxla_jit:\n",
      "File \u001b[0;32m/opt/anaconda3/envs/python38/lib/python3.8/site-packages/deepxde/utils/internal.py:22\u001b[0m, in \u001b[0;36mtiming.<locals>.wrapper\u001b[0;34m(*args, **kwargs)\u001b[0m\n\u001b[1;32m     19\u001b[0m \u001b[39m@wraps\u001b[39m(f)\n\u001b[1;32m     20\u001b[0m \u001b[39mdef\u001b[39;00m \u001b[39mwrapper\u001b[39m(\u001b[39m*\u001b[39margs, \u001b[39m*\u001b[39m\u001b[39m*\u001b[39mkwargs):\n\u001b[1;32m     21\u001b[0m     ts \u001b[39m=\u001b[39m timeit\u001b[39m.\u001b[39mdefault_timer()\n\u001b[0;32m---> 22\u001b[0m     result \u001b[39m=\u001b[39m f(\u001b[39m*\u001b[39;49margs, \u001b[39m*\u001b[39;49m\u001b[39m*\u001b[39;49mkwargs)\n\u001b[1;32m     23\u001b[0m     te \u001b[39m=\u001b[39m timeit\u001b[39m.\u001b[39mdefault_timer()\n\u001b[1;32m     24\u001b[0m     \u001b[39mif\u001b[39;00m config\u001b[39m.\u001b[39mrank \u001b[39m==\u001b[39m \u001b[39m0\u001b[39m:\n",
      "File \u001b[0;32m/opt/anaconda3/envs/python38/lib/python3.8/site-packages/deepxde/nn/tensorflow_compat_v1/deeponet.py:276\u001b[0m, in \u001b[0;36mDeepONet.build\u001b[0;34m(self)\u001b[0m\n\u001b[1;32m    273\u001b[0m \u001b[39m@timing\u001b[39m\n\u001b[1;32m    274\u001b[0m \u001b[39mdef\u001b[39;00m \u001b[39mbuild\u001b[39m(\u001b[39mself\u001b[39m):\n\u001b[1;32m    275\u001b[0m     \u001b[39mprint\u001b[39m(\u001b[39m\"\u001b[39m\u001b[39mBuilding DeepONet...\u001b[39m\u001b[39m\"\u001b[39m)\n\u001b[0;32m--> 276\u001b[0m     \u001b[39mself\u001b[39m\u001b[39m.\u001b[39mX_func \u001b[39m=\u001b[39m tf\u001b[39m.\u001b[39mplaceholder(config\u001b[39m.\u001b[39mreal(tf), [\u001b[39mNone\u001b[39;00m, \u001b[39mself\u001b[39;49m\u001b[39m.\u001b[39;49mlayer_size_func[\u001b[39m0\u001b[39;49m]])\n\u001b[1;32m    277\u001b[0m     \u001b[39mself\u001b[39m\u001b[39m.\u001b[39mX_loc \u001b[39m=\u001b[39m tf\u001b[39m.\u001b[39mplaceholder(config\u001b[39m.\u001b[39mreal(tf), [\u001b[39mNone\u001b[39;00m, \u001b[39mself\u001b[39m\u001b[39m.\u001b[39mlayer_size_loc[\u001b[39m0\u001b[39m]])\n\u001b[1;32m    278\u001b[0m     \u001b[39mself\u001b[39m\u001b[39m.\u001b[39m_inputs \u001b[39m=\u001b[39m [\u001b[39mself\u001b[39m\u001b[39m.\u001b[39mX_func, \u001b[39mself\u001b[39m\u001b[39m.\u001b[39mX_loc]\n",
      "\u001b[0;31mTypeError\u001b[0m: 'FNN' object is not subscriptable"
     ]
    }
   ],
   "source": [
    "import numpy as np\n",
    "import pandas as pd\n",
    "import deepxde as dde\n",
    "from sklearn.model_selection import train_test_split\n",
    "from sklearn.preprocessing import MinMaxScaler\n",
    "from sklearn.metrics import mean_absolute_error, mean_absolute_percentage_error, r2_score\n",
    "import matplotlib.pyplot as plt\n",
    "\n",
    "# Load the dataset\n",
    "data = pd.read_csv('./changhua_data.csv')\n",
    "\n",
    "# Extract columns\n",
    "# Assume: First column is time, second column is flow, third to ninth are rainfall data\n",
    "times = pd.to_datetime(data.iloc[:, 0].values)  # Convert time to datetime\n",
    "flows = data.iloc[:, 1].values.reshape(-1, 1)\n",
    "rainfalls = data.iloc[:, 2:].values\n",
    "\n",
    "# Create sequences for time-series prediction\n",
    "def create_sequences(data, target, input_steps, output_steps):\n",
    "    X, y, times_seq = [], [], []\n",
    "    for i in range(len(data) - input_steps - output_steps + 1):\n",
    "        X.append(data[i:(i + input_steps), :])\n",
    "        y.append(target[(i + input_steps):(i + input_steps + output_steps), 0])\n",
    "        times_seq.append(times[i + input_steps:(i + input_steps + output_steps)])\n",
    "    return np.array(X), np.array(y), np.array(times_seq)\n",
    "\n",
    "input_steps = 12  # Use past 12 hours\n",
    "output_steps = 6  # Predict next 6 hours\n",
    "\n",
    "# Data preprocessing\n",
    "scaler_flow = MinMaxScaler()\n",
    "flows_scaled = scaler_flow.fit_transform(flows)\n",
    "\n",
    "scaler_rainfall = MinMaxScaler()\n",
    "rainfalls_scaled = scaler_rainfall.fit_transform(rainfalls)\n",
    "\n",
    "# Combine rainfall and flow data for sequence creation\n",
    "combined_data = np.concatenate((rainfalls_scaled, flows_scaled), axis=1)\n",
    "\n",
    "# Create sequences\n",
    "X, y, times_seq = create_sequences(combined_data, flows_scaled, input_steps, output_steps)\n",
    "\n",
    "# Train-test split\n",
    "X_train, X_test, y_train, y_test, times_train, times_test = train_test_split(X, y, times_seq, test_size=0.2, random_state=42)\n",
    "\n",
    "# Define DeepONet model using DeepXDE\n",
    "# branch = dde.maps.FNN([input_steps * (X_train.shape[2] - 1), 64, 32], \"relu\", \"Glorot normal\")\n",
    "# trunk = dde.maps.FNN([input_steps, 64, 32], \"relu\", \"Glorot normal\")\n",
    "# net = dde.maps.DeepONet(branch, trunk)\n",
    "\n",
    "branch = dde.maps.FNN([input_steps * (X_train.shape[2] - 1), 64, 32], \"relu\", \"Glorot normal\")\n",
    "trunk = dde.maps.FNN([input_steps, 64, 32], \"relu\", \"Glorot normal\")\n",
    "net = dde.maps.DeepONet(branch, trunk, activation=\"relu\", kernel_initializer=\"Glorot normal\")\n",
    "\n",
    "model = dde.Model(data=None, net=net)\n",
    "model.compile(\"adam\", lr=0.001, metrics=[\"mae\"])\n",
    "\n",
    "# Prepare data for DeepONet\n",
    "branch_train = X_train[:, :, :-1].reshape(len(X_train), -1)\n",
    "trunk_train = X_train[:, :, -1:].reshape(len(X_train), -1)\n",
    "y_train_flat = y_train.reshape(-1, output_steps)\n",
    "\n",
    "branch_test = X_test[:, :, :-1].reshape(len(X_test), -1)\n",
    "trunk_test = X_test[:, :, -1:].reshape(len(X_test), -1)\n",
    "y_test_flat = y_test.reshape(-1, output_steps)\n",
    "\n",
    "# Train the model\n",
    "losshistory, train_state = model.train([branch_train, trunk_train], y_train_flat, epochs=100, batch_size=16, validation_data=([branch_test, trunk_test], y_test_flat))\n",
    "\n",
    "# Evaluate the model\n",
    "evaluation = model.evaluate([branch_test, trunk_test], y_test_flat)\n",
    "print(f'Test Loss: {evaluation[0]}, Test MAE: {evaluation[1]}')\n",
    "\n",
    "# Make predictions\n",
    "predictions = model.predict([branch_test, trunk_test])\n",
    "\n",
    "# Inverse transform the predicted flows to original scale\n",
    "predicted_flows = scaler_flow.inverse_transform(predictions.reshape(-1, 1)).reshape(-1, output_steps)\n",
    "y_test_inverse = scaler_flow.inverse_transform(y_test.reshape(-1, 1)).reshape(-1, output_steps)\n",
    "\n",
    "# Display predictions\n",
    "results = pd.DataFrame({'Actual Flow': y_test_inverse.flatten(), 'Predicted Flow': predicted_flows.flatten()})\n",
    "print(results.head())\n",
    "\n",
    "# Calculate evaluation metrics\n",
    "mae = mean_absolute_error(y_test_inverse.flatten(), predicted_flows.flatten())\n",
    "mape = mean_absolute_percentage_error(y_test_inverse.flatten(), predicted_flows.flatten())\n",
    "r2 = r2_score(y_test_inverse.flatten(), predicted_flows.flatten())\n",
    "print(f'MAE: {mae}, MAPE: {mape}, R^2: {r2}')\n",
    "\n",
    "# Plot loss\n",
    "plt.figure(figsize=(10, 5))\n",
    "plt.plot(losshistory.loss_train, label='Training Loss')\n",
    "plt.plot(losshistory.loss_test, label='Validation Loss')\n",
    "plt.xlabel('Epochs')\n",
    "plt.ylabel('Loss')\n",
    "plt.legend()\n",
    "plt.title('Model Loss')\n",
    "plt.show()\n",
    "\n",
    "# Plot rainfall-flow dual-axis chart for actual vs predicted flows along with aggregated rainfall\n",
    "fig, ax1 = plt.subplots(figsize=(15, 10))\n",
    "\n",
    "# Use first 100 data points for plotting\n",
    "time_steps = np.arange(100)\n",
    "aggregated_rainfall = scaler_rainfall.inverse_transform(X_test[:100, :, :-1].reshape(-1, X_test.shape[2] - 1)).sum(axis=1).reshape(100, -1).mean(axis=1)\n",
    "\n",
    "# Plot aggregated rainfall as a bar chart, pointing downwards\n",
    "ax1.bar(time_steps, -aggregated_rainfall, color='tab:green', alpha=0.5, label='Aggregated Rainfall')\n",
    "ax1.invert_yaxis()\n",
    "\n",
    "ax1.set_xlabel('Time Steps')\n",
    "ax1.set_ylabel('Aggregated Rainfall (mm)')\n",
    "ax1.legend(loc='upper right')\n",
    "ax1.set_title('Rainfall and Flow Relationship')\n",
    "\n",
    "# Plot actual and predicted flow\n",
    "actual_flow = y_test_inverse[:100, 0]\n",
    "predicted_flow = predicted_flows[:100, 0]\n",
    "\n",
    "ax2 = ax1.twinx()\n",
    "ax2.plot(time_steps, actual_flow, label='Actual Flow', color='blue', alpha=0.7)\n",
    "ax2.plot(time_steps, predicted_flow, label='Predicted Flow', color='red', linestyle='dashed', alpha=0.7)\n",
    "\n",
    "ax2.set_ylabel('Flow (m^3/s)')\n",
    "ax2.legend(loc='upper left')\n",
    "\n",
    "plt.show()"
   ]
  }
 ],
 "metadata": {
  "kernelspec": {
   "display_name": "python38",
   "language": "python",
   "name": "python3"
  },
  "language_info": {
   "codemirror_mode": {
    "name": "ipython",
    "version": 3
   },
   "file_extension": ".py",
   "mimetype": "text/x-python",
   "name": "python",
   "nbconvert_exporter": "python",
   "pygments_lexer": "ipython3",
   "version": "3.8.18 (default, Sep 11 2023, 08:28:20) \n[Clang 14.0.6 ]"
  },
  "orig_nbformat": 4,
  "vscode": {
   "interpreter": {
    "hash": "a5e36ac6a21e329c2cec267b08e4f28884519c7e5682f29504bd17199cc3d203"
   }
  }
 },
 "nbformat": 4,
 "nbformat_minor": 2
}
